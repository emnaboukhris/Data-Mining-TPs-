{
 "cells": [
  {
   "cell_type": "code",
   "execution_count": 40,
   "metadata": {},
   "outputs": [
    {
     "name": "stdout",
     "output_type": "stream",
     "text": [
      "150\n",
      "50\n",
      "50\n",
      "50\n",
      "[5.2 4.1 1.5 0.1]\n"
     ]
    }
   ],
   "source": [
    "from sklearn import datasets\n",
    "from sklearn import metrics\n",
    "from sklearn import naive_bayes\n",
    "\n",
    "irisData = datasets.load_iris()\n",
    "\n",
    "print (irisData.target.size)\n",
    "print(list(irisData.target).count(0))\n",
    "print(list(irisData.target).count(1))\n",
    "print(list(irisData.target).count(2))\n",
    "print(irisData.data[32])"
   ]
  },
  {
   "cell_type": "code",
   "execution_count": 29,
   "metadata": {},
   "outputs": [
    {
     "name": "stdout",
     "output_type": "stream",
     "text": [
      "data target de 0 [[5.1 3.5 1.4 0.2]\n",
      " [4.9 3.  1.4 0.2]\n",
      " [4.7 3.2 1.3 0.2]\n",
      " [4.6 3.1 1.5 0.2]\n",
      " [5.  3.6 1.4 0.2]\n",
      " [5.4 3.9 1.7 0.4]\n",
      " [4.6 3.4 1.4 0.3]\n",
      " [5.  3.4 1.5 0.2]\n",
      " [4.4 2.9 1.4 0.2]\n",
      " [4.9 3.1 1.5 0.1]\n",
      " [5.4 3.7 1.5 0.2]\n",
      " [4.8 3.4 1.6 0.2]\n",
      " [4.8 3.  1.4 0.1]\n",
      " [4.3 3.  1.1 0.1]\n",
      " [5.8 4.  1.2 0.2]\n",
      " [5.7 4.4 1.5 0.4]\n",
      " [5.4 3.9 1.3 0.4]\n",
      " [5.1 3.5 1.4 0.3]\n",
      " [5.7 3.8 1.7 0.3]\n",
      " [5.1 3.8 1.5 0.3]\n",
      " [5.4 3.4 1.7 0.2]\n",
      " [5.1 3.7 1.5 0.4]\n",
      " [4.6 3.6 1.  0.2]\n",
      " [5.1 3.3 1.7 0.5]\n",
      " [4.8 3.4 1.9 0.2]\n",
      " [5.  3.  1.6 0.2]\n",
      " [5.  3.4 1.6 0.4]\n",
      " [5.2 3.5 1.5 0.2]\n",
      " [5.2 3.4 1.4 0.2]\n",
      " [4.7 3.2 1.6 0.2]\n",
      " [4.8 3.1 1.6 0.2]\n",
      " [5.4 3.4 1.5 0.4]\n",
      " [5.2 4.1 1.5 0.1]\n",
      " [5.5 4.2 1.4 0.2]\n",
      " [4.9 3.1 1.5 0.2]\n",
      " [5.  3.2 1.2 0.2]\n",
      " [5.5 3.5 1.3 0.2]\n",
      " [4.9 3.6 1.4 0.1]\n",
      " [4.4 3.  1.3 0.2]\n",
      " [5.1 3.4 1.5 0.2]\n",
      " [5.  3.5 1.3 0.3]\n",
      " [4.5 2.3 1.3 0.3]\n",
      " [4.4 3.2 1.3 0.2]\n",
      " [5.  3.5 1.6 0.6]\n",
      " [5.1 3.8 1.9 0.4]\n",
      " [4.8 3.  1.4 0.3]\n",
      " [5.1 3.8 1.6 0.2]\n",
      " [4.6 3.2 1.4 0.2]\n",
      " [5.3 3.7 1.5 0.2]\n",
      " [5.  3.3 1.4 0.2]]\n",
      "data target de 0 [5.1 4.9 4.7 4.6 5.  5.4 4.6 5.  4.4 4.9 5.4 4.8 4.8 4.3 5.8 5.7 5.4 5.1\n",
      " 5.7 5.1 5.4 5.1 4.6 5.1 4.8 5.  5.  5.2 5.2 4.7 4.8 5.4 5.2 5.5 4.9 5.\n",
      " 5.5 4.9 4.4 5.1 5.  4.5 4.4 5.  5.1 4.8 5.1 4.6 5.3 5. ]\n"
     ]
    },
    {
     "data": {
      "image/png": "[encoded data removed]",
      "text/plain": [
       "<Figure size 432x288 with 1 Axes>"
      ]
     },
     "metadata": {
      "needs_background": "light"
     },
     "output_type": "display_data"
    },
    {
     "name": "stdout",
     "output_type": "stream",
     "text": [
      "['setosa' 'versicolor' 'virginica']\n"
     ]
    }
   ],
   "source": [
    "import matplotlib\n",
    "import pylab as pl\n",
    "from itertools import cycle\n",
    "\n",
    "def plot_2D(data, target, target_names):\n",
    "    colors = cycle('rgbcmykw') # cycle de couleurs\n",
    "    target_ids = range(len(target_names))\n",
    "    pl.figure()\n",
    "    for i, c, label in zip(target_ids, colors, target_names):\n",
    "        pl.scatter(data[target == i, 0], data[target == i, 1], c=c, label=label)\n",
    "\n",
    "    pl.legend()\n",
    "    pl.show()\n",
    "\n",
    "plot_2D(irisData.data,irisData.target,irisData.target_names)\n",
    "print(irisData.target_names)"
   ]
  },
  {
   "cell_type": "code",
   "execution_count": 34,
   "metadata": {},
   "outputs": [
    {
     "data": {
      "image/png": "[encoded data removed]",
      "text/plain": [
       "<Figure size 432x288 with 1 Axes>"
      ]
     },
     "metadata": {
      "needs_background": "light"
     },
     "output_type": "display_data"
    },
    {
     "name": "stdout",
     "output_type": "stream",
     "text": [
      "['setosa' 'versicolor' 'virginica']\n"
     ]
    }
   ],
   "source": [
    "import matplotlib\n",
    "import pylab as pl\n",
    "from itertools import cycle\n",
    "\n",
    "def plot_2D(data, target, target_names):\n",
    "    colors = cycle('rgbcmykw') # cycle de couleurs\n",
    "    target_ids = range(len(target_names))\n",
    "    pl.figure()\n",
    "    for i, c, label in zip(target_ids, colors, target_names):\n",
    "        pl.scatter(data[target == i, 2], data[target == i, 3], c=c, label=label)\n",
    "\n",
    "    pl.legend()\n",
    "    pl.plot([0,3.5],[2,0])\n",
    "    pl.show()\n",
    "\n",
    "plot_2D(irisData.data,irisData.target,irisData.target_names)\n",
    "print(irisData.target_names)"
   ]
  },
  {
   "cell_type": "code",
   "execution_count": 46,
   "metadata": {},
   "outputs": [
    {
     "name": "stdout",
     "output_type": "stream",
     "text": [
      "[0]\n",
      "[2]\n",
      "[0 0 0 0 0 0 0 0 0 0 0 0 0 0 0 0 0 0 0 0 0 0 0 0 0 0 0 0 0 0 0 0 0 0 0 0 0\n",
      " 0 0 0 0 0 0 0 0 0 0 0 0 0 1 1 1 1 1 1 1 1 1 1 1 1 1 1 1 1 1 1 1 1 1 1 1 1\n",
      " 1 1 1 1 1 1 1 1 1 2 1 1 1 1 1 1 1 1 1 1 1 1 1 1 1 1 2 2 2 2 2 2 2 2 2 2 2\n",
      " 2 2 2 2 2 2 2 2 2 2 2 2 2 2 1 2 2 2 1 2 1 2 1 2 2 2 2 2 2 2 2 2 2 2 2 2 2\n",
      " 2 2]\n"
     ]
    }
   ],
   "source": [
    "from sklearn import naive_bayes\n",
    "\n",
    "nb = naive_bayes.MultinomialNB(fit_prior=True)# un algo d'apprentissage\n",
    "irisData = datasets.load_iris()\n",
    "nb.fit(irisData.data[:-1], irisData.target[:-1])\n",
    "p31 = nb.predict(irisData.data[31].reshape(1,-1))\n",
    "print(p31)\n",
    "plast = nb.predict(irisData.data[-1].reshape(1,-1))\n",
    "print(plast)\n",
    "p = nb.predict(irisData.data[:])\n",
    "print(p) "
   ]
  },
  {
   "cell_type": "code",
   "execution_count": 10,
   "metadata": {
    "scrolled": true
   },
   "outputs": [
    {
     "data": {
      "text/plain": [
       "array([1, 1, 1, 1, 1, 1, 1, 1, 1, 1, 1, 1, 1, 1, 1, 1, 1, 1, 1, 1, 1, 1,\n",
       "       1, 1, 1, 1, 1, 1, 1, 1, 1, 1, 1, 1, 1, 1, 1, 1, 1, 1, 1, 1, 1, 1,\n",
       "       1, 1, 1, 1, 1])"
      ]
     },
     "execution_count": 10,
     "metadata": {},
     "output_type": "execute_result"
    }
   ],
   "source": [
    "from sklearn import metrics\n",
    "from sklearn import naive_bayes\n",
    "\n",
    "\n",
    "nb = naive_bayes.MultinomialNB(fit_prior=True)\n",
    "nb.fit(irisData.data[:99], irisData.target[:99])\n",
    "nb.predict(irisData.data[100:149])"
   ]
  },
  {
   "cell_type": "code",
   "execution_count": 14,
   "metadata": {},
   "outputs": [
    {
     "name": "stdout",
     "output_type": "stream",
     "text": [
      "0.3333333333333333\n",
      "[[50  0  0]\n",
      " [ 0 50  0]\n",
      " [ 0 50  0]]\n",
      "0.33333333333333337\n"
     ]
    }
   ],
   "source": [
    "ea = 0\n",
    "P = nb.predict(irisData.data[:])\n",
    "Y=irisData.target \n",
    "for i in range(len(irisData.data)):\n",
    "    if (P[i] != Y[i]):\n",
    "        ea = ea+1\n",
    "print (ea/len(irisData.data) )  \n",
    "\n",
    "confusion_matrix = metrics.confusion_matrix(Y,P)\n",
    "print(confusion_matrix)\n",
    "Accuracy = metrics.accuracy_score(Y,P)\n",
    "print(1-Accuracy)"
   ]
  },
  {
   "cell_type": "code",
   "execution_count": 15,
   "metadata": {},
   "outputs": [],
   "source": [
    "import numpy as np\n",
    "def erreur_apprentissage_2(data,target,predicted):\n",
    "    ea = np.count_nonzero(predicted-target)\n",
    "    print(ea/len(data))\n",
    "    "
   ]
  },
  {
   "cell_type": "code",
   "execution_count": 24,
   "metadata": {},
   "outputs": [
    {
     "name": "stdout",
     "output_type": "stream",
     "text": [
      "1.0\n"
     ]
    }
   ],
   "source": [
    "predicted = nb.predict(irisData.data[100:149])\n",
    "real = irisData.target[100:149]\n",
    "erreur_apprentissage_2(irisData.data[100:149],real,predicted)"
   ]
  },
  {
   "cell_type": "code",
   "execution_count": 129,
   "metadata": {},
   "outputs": [],
   "source": [
    "def erreur_apprentissage_3(clf,test_samples,target):\n",
    "    ea= 1 - clf.score(test_samples,target)\n",
    "    return ea"
   ]
  },
  {
   "cell_type": "code",
   "execution_count": 18,
   "metadata": {},
   "outputs": [],
   "source": [
    "def erreur_apprentissage(data,target, predicted):\n",
    "    ea = 0\n",
    "    for i in range(len(data)):\n",
    "        if (predicted[i] != target[i]):\n",
    "            ea = ea+1\n",
    "    print(ea/len(data))"
   ]
  },
  {
   "cell_type": "code",
   "execution_count": 25,
   "metadata": {},
   "outputs": [
    {
     "name": "stdout",
     "output_type": "stream",
     "text": [
      "1.0\n",
      "1.0\n"
     ]
    }
   ],
   "source": [
    "\n",
    "erreur_apprentissage_2(irisData.data[100:149],real,predicted)\n",
    "erreur_apprentissage_3(nb,irisData.data[100:149],real)"
   ]
  },
  {
   "cell_type": "code",
   "execution_count": 41,
   "metadata": {},
   "outputs": [],
   "source": [
    "def split(S):\n",
    "    length= S.target.size\n",
    "    len1=int(length*(2/3))\n",
    "    dataS1=S.data[:len1]\n",
    "    dataS2=S.data[len1:]\n",
    "    targetS1=S.target[:len1]\n",
    "    targetS2=S.target[len1:]\n",
    "    return [dataS1, targetS1, dataS2, targetS2]"
   ]
  },
  {
   "cell_type": "code",
   "execution_count": 44,
   "metadata": {},
   "outputs": [
    {
     "name": "stdout",
     "output_type": "stream",
     "text": [
      "[[5.1 3.5 1.4 0.2]\n",
      " [4.9 3.  1.4 0.2]\n",
      " [4.7 3.2 1.3 0.2]\n",
      " [4.6 3.1 1.5 0.2]\n",
      " [5.  3.6 1.4 0.2]\n",
      " [5.4 3.9 1.7 0.4]\n",
      " [4.6 3.4 1.4 0.3]\n",
      " [5.  3.4 1.5 0.2]\n",
      " [4.4 2.9 1.4 0.2]\n",
      " [4.9 3.1 1.5 0.1]\n",
      " [5.4 3.7 1.5 0.2]\n",
      " [4.8 3.4 1.6 0.2]\n",
      " [4.8 3.  1.4 0.1]\n",
      " [4.3 3.  1.1 0.1]\n",
      " [5.8 4.  1.2 0.2]\n",
      " [5.7 4.4 1.5 0.4]\n",
      " [5.4 3.9 1.3 0.4]\n",
      " [5.1 3.5 1.4 0.3]\n",
      " [5.7 3.8 1.7 0.3]\n",
      " [5.1 3.8 1.5 0.3]\n",
      " [5.4 3.4 1.7 0.2]\n",
      " [5.1 3.7 1.5 0.4]\n",
      " [4.6 3.6 1.  0.2]\n",
      " [5.1 3.3 1.7 0.5]\n",
      " [4.8 3.4 1.9 0.2]\n",
      " [5.  3.  1.6 0.2]\n",
      " [5.  3.4 1.6 0.4]\n",
      " [5.2 3.5 1.5 0.2]\n",
      " [5.2 3.4 1.4 0.2]\n",
      " [4.7 3.2 1.6 0.2]\n",
      " [4.8 3.1 1.6 0.2]\n",
      " [5.4 3.4 1.5 0.4]\n",
      " [5.2 4.1 1.5 0.1]\n",
      " [5.5 4.2 1.4 0.2]\n",
      " [4.9 3.1 1.5 0.2]\n",
      " [5.  3.2 1.2 0.2]\n",
      " [5.5 3.5 1.3 0.2]\n",
      " [4.9 3.6 1.4 0.1]\n",
      " [4.4 3.  1.3 0.2]\n",
      " [5.1 3.4 1.5 0.2]\n",
      " [5.  3.5 1.3 0.3]\n",
      " [4.5 2.3 1.3 0.3]\n",
      " [4.4 3.2 1.3 0.2]\n",
      " [5.  3.5 1.6 0.6]\n",
      " [5.1 3.8 1.9 0.4]\n",
      " [4.8 3.  1.4 0.3]\n",
      " [5.1 3.8 1.6 0.2]\n",
      " [4.6 3.2 1.4 0.2]\n",
      " [5.3 3.7 1.5 0.2]\n",
      " [5.  3.3 1.4 0.2]\n",
      " [7.  3.2 4.7 1.4]\n",
      " [6.4 3.2 4.5 1.5]\n",
      " [6.9 3.1 4.9 1.5]\n",
      " [5.5 2.3 4.  1.3]\n",
      " [6.5 2.8 4.6 1.5]\n",
      " [5.7 2.8 4.5 1.3]\n",
      " [6.3 3.3 4.7 1.6]\n",
      " [4.9 2.4 3.3 1. ]\n",
      " [6.6 2.9 4.6 1.3]\n",
      " [5.2 2.7 3.9 1.4]\n",
      " [5.  2.  3.5 1. ]\n",
      " [5.9 3.  4.2 1.5]\n",
      " [6.  2.2 4.  1. ]\n",
      " [6.1 2.9 4.7 1.4]\n",
      " [5.6 2.9 3.6 1.3]\n",
      " [6.7 3.1 4.4 1.4]\n",
      " [5.6 3.  4.5 1.5]\n",
      " [5.8 2.7 4.1 1. ]\n",
      " [6.2 2.2 4.5 1.5]\n",
      " [5.6 2.5 3.9 1.1]\n",
      " [5.9 3.2 4.8 1.8]\n",
      " [6.1 2.8 4.  1.3]\n",
      " [6.3 2.5 4.9 1.5]\n",
      " [6.1 2.8 4.7 1.2]\n",
      " [6.4 2.9 4.3 1.3]\n",
      " [6.6 3.  4.4 1.4]\n",
      " [6.8 2.8 4.8 1.4]\n",
      " [6.7 3.  5.  1.7]\n",
      " [6.  2.9 4.5 1.5]\n",
      " [5.7 2.6 3.5 1. ]\n",
      " [5.5 2.4 3.8 1.1]\n",
      " [5.5 2.4 3.7 1. ]\n",
      " [5.8 2.7 3.9 1.2]\n",
      " [6.  2.7 5.1 1.6]\n",
      " [5.4 3.  4.5 1.5]\n",
      " [6.  3.4 4.5 1.6]\n",
      " [6.7 3.1 4.7 1.5]\n",
      " [6.3 2.3 4.4 1.3]\n",
      " [5.6 3.  4.1 1.3]\n",
      " [5.5 2.5 4.  1.3]\n",
      " [5.5 2.6 4.4 1.2]\n",
      " [6.1 3.  4.6 1.4]\n",
      " [5.8 2.6 4.  1.2]\n",
      " [5.  2.3 3.3 1. ]\n",
      " [5.6 2.7 4.2 1.3]\n",
      " [5.7 3.  4.2 1.2]\n",
      " [5.7 2.9 4.2 1.3]\n",
      " [6.2 2.9 4.3 1.3]\n",
      " [5.1 2.5 3.  1.1]\n",
      " [5.7 2.8 4.1 1.3]]\n",
      "[0 0 0 0 0 0 0 0 0 0 0 0 0 0 0 0 0 0 0 0 0 0 0 0 0 0 0 0 0 0 0 0 0 0 0 0 0\n",
      " 0 0 0 0 0 0 0 0 0 0 0 0 0 1 1 1 1 1 1 1 1 1 1 1 1 1 1 1 1 1 1 1 1 1 1 1 1\n",
      " 1 1 1 1 1 1 1 1 1 1 1 1 1 1 1 1 1 1 1 1 1 1 1 1 1 1]\n"
     ]
    }
   ],
   "source": [
    "\n",
    "print(split(irisData)[0])\n",
    "\n",
    "print(split(irisData)[1])"
   ]
  },
  {
   "cell_type": "code",
   "execution_count": 136,
   "metadata": {},
   "outputs": [],
   "source": [
    "def split(s):\n",
    "    X,y = s\n",
    "    rand_dist = np.random.rand(len(X)) < 2/3\n",
    "    dataS1= X[rand_dist]\n",
    "    targetS1= y[rand_dist]\n",
    "    dataS2= X[~rand_dist]\n",
    "    targetS2= y[~rand_dist]\n",
    "    return [dataS1, targetS1, dataS2, targetS2]"
   ]
  },
  {
   "cell_type": "code",
   "execution_count": 82,
   "metadata": {},
   "outputs": [
    {
     "name": "stdout",
     "output_type": "stream",
     "text": [
      "this is the random number [ True False  True False  True False False False False  True  True False\n",
      "  True False  True  True False False False  True  True False  True False\n",
      "  True  True  True  True  True False  True False  True False  True  True\n",
      "  True  True  True False False  True  True  True  True False  True False\n",
      " False False False  True False  True False  True  True  True False False\n",
      "  True  True  True  True  True False  True False  True  True  True  True\n",
      " False  True False  True  True  True  True  True  True  True  True  True\n",
      "  True  True False False  True  True  True False False False False False\n",
      "  True False  True  True False False  True False  True False  True False\n",
      " False False  True  True  True  True False False False  True False False\n",
      "  True  True False  True  True  True  True False  True  True  True  True\n",
      " False  True False  True  True  True False  True  True  True  True False\n",
      " False  True  True False  True  True]\n"
     ]
    },
    {
     "data": {
      "text/plain": [
       "[array([[5.1, 3.5, 1.4, 0.2],\n",
       "        [4.7, 3.2, 1.3, 0.2],\n",
       "        [5. , 3.6, 1.4, 0.2],\n",
       "        [4.9, 3.1, 1.5, 0.1],\n",
       "        [5.4, 3.7, 1.5, 0.2],\n",
       "        [4.8, 3. , 1.4, 0.1],\n",
       "        [5.8, 4. , 1.2, 0.2],\n",
       "        [5.7, 4.4, 1.5, 0.4],\n",
       "        [5.1, 3.8, 1.5, 0.3],\n",
       "        [5.4, 3.4, 1.7, 0.2],\n",
       "        [4.6, 3.6, 1. , 0.2],\n",
       "        [4.8, 3.4, 1.9, 0.2],\n",
       "        [5. , 3. , 1.6, 0.2],\n",
       "        [5. , 3.4, 1.6, 0.4],\n",
       "        [5.2, 3.5, 1.5, 0.2],\n",
       "        [5.2, 3.4, 1.4, 0.2],\n",
       "        [4.8, 3.1, 1.6, 0.2],\n",
       "        [5.2, 4.1, 1.5, 0.1],\n",
       "        [4.9, 3.1, 1.5, 0.2],\n",
       "        [5. , 3.2, 1.2, 0.2],\n",
       "        [5.5, 3.5, 1.3, 0.2],\n",
       "        [4.9, 3.6, 1.4, 0.1],\n",
       "        [4.4, 3. , 1.3, 0.2],\n",
       "        [4.5, 2.3, 1.3, 0.3],\n",
       "        [4.4, 3.2, 1.3, 0.2],\n",
       "        [5. , 3.5, 1.6, 0.6],\n",
       "        [5.1, 3.8, 1.9, 0.4],\n",
       "        [5.1, 3.8, 1.6, 0.2],\n",
       "        [6.4, 3.2, 4.5, 1.5],\n",
       "        [5.5, 2.3, 4. , 1.3],\n",
       "        [5.7, 2.8, 4.5, 1.3],\n",
       "        [6.3, 3.3, 4.7, 1.6],\n",
       "        [4.9, 2.4, 3.3, 1. ],\n",
       "        [5. , 2. , 3.5, 1. ],\n",
       "        [5.9, 3. , 4.2, 1.5],\n",
       "        [6. , 2.2, 4. , 1. ],\n",
       "        [6.1, 2.9, 4.7, 1.4],\n",
       "        [5.6, 2.9, 3.6, 1.3],\n",
       "        [5.6, 3. , 4.5, 1.5],\n",
       "        [6.2, 2.2, 4.5, 1.5],\n",
       "        [5.6, 2.5, 3.9, 1.1],\n",
       "        [5.9, 3.2, 4.8, 1.8],\n",
       "        [6.1, 2.8, 4. , 1.3],\n",
       "        [6.1, 2.8, 4.7, 1.2],\n",
       "        [6.6, 3. , 4.4, 1.4],\n",
       "        [6.8, 2.8, 4.8, 1.4],\n",
       "        [6.7, 3. , 5. , 1.7],\n",
       "        [6. , 2.9, 4.5, 1.5],\n",
       "        [5.7, 2.6, 3.5, 1. ],\n",
       "        [5.5, 2.4, 3.8, 1.1],\n",
       "        [5.5, 2.4, 3.7, 1. ],\n",
       "        [5.8, 2.7, 3.9, 1.2],\n",
       "        [6. , 2.7, 5.1, 1.6],\n",
       "        [5.4, 3. , 4.5, 1.5],\n",
       "        [6. , 3.4, 4.5, 1.6],\n",
       "        [5.6, 3. , 4.1, 1.3],\n",
       "        [5.5, 2.5, 4. , 1.3],\n",
       "        [5.5, 2.6, 4.4, 1.2],\n",
       "        [5.7, 2.9, 4.2, 1.3],\n",
       "        [5.1, 2.5, 3. , 1.1],\n",
       "        [5.7, 2.8, 4.1, 1.3],\n",
       "        [7.1, 3. , 5.9, 2.1],\n",
       "        [6.5, 3. , 5.8, 2.2],\n",
       "        [4.9, 2.5, 4.5, 1.7],\n",
       "        [6.5, 3.2, 5.1, 2. ],\n",
       "        [6.4, 2.7, 5.3, 1.9],\n",
       "        [6.8, 3. , 5.5, 2.1],\n",
       "        [5.7, 2.5, 5. , 2. ],\n",
       "        [7.7, 3.8, 6.7, 2.2],\n",
       "        [6.9, 3.2, 5.7, 2.3],\n",
       "        [5.6, 2.8, 4.9, 2. ],\n",
       "        [6.3, 2.7, 4.9, 1.8],\n",
       "        [6.7, 3.3, 5.7, 2.1],\n",
       "        [7.2, 3.2, 6. , 1.8],\n",
       "        [6.2, 2.8, 4.8, 1.8],\n",
       "        [6.4, 2.8, 5.6, 2.1],\n",
       "        [7.2, 3. , 5.8, 1.6],\n",
       "        [7.4, 2.8, 6.1, 1.9],\n",
       "        [7.9, 3.8, 6.4, 2. ],\n",
       "        [6.3, 2.8, 5.1, 1.5],\n",
       "        [7.7, 3. , 6.1, 2.3],\n",
       "        [6.3, 3.4, 5.6, 2.4],\n",
       "        [6.4, 3.1, 5.5, 1.8],\n",
       "        [6.9, 3.1, 5.4, 2.1],\n",
       "        [6.7, 3.1, 5.6, 2.4],\n",
       "        [6.9, 3.1, 5.1, 2.3],\n",
       "        [5.8, 2.7, 5.1, 1.9],\n",
       "        [6.7, 3. , 5.2, 2.3],\n",
       "        [6.3, 2.5, 5. , 1.9],\n",
       "        [6.2, 3.4, 5.4, 2.3],\n",
       "        [5.9, 3. , 5.1, 1.8]]),\n",
       " array([0, 0, 0, 0, 0, 0, 0, 0, 0, 0, 0, 0, 0, 0, 0, 0, 0, 0, 0, 0, 0, 0,\n",
       "        0, 0, 0, 0, 0, 0, 1, 1, 1, 1, 1, 1, 1, 1, 1, 1, 1, 1, 1, 1, 1, 1,\n",
       "        1, 1, 1, 1, 1, 1, 1, 1, 1, 1, 1, 1, 1, 1, 1, 1, 1, 2, 2, 2, 2, 2,\n",
       "        2, 2, 2, 2, 2, 2, 2, 2, 2, 2, 2, 2, 2, 2, 2, 2, 2, 2, 2, 2, 2, 2,\n",
       "        2, 2, 2]),\n",
       " array([[4.9, 3. , 1.4, 0.2],\n",
       "        [4.6, 3.1, 1.5, 0.2],\n",
       "        [5.4, 3.9, 1.7, 0.4],\n",
       "        [4.6, 3.4, 1.4, 0.3],\n",
       "        [5. , 3.4, 1.5, 0.2],\n",
       "        [4.4, 2.9, 1.4, 0.2],\n",
       "        [4.8, 3.4, 1.6, 0.2],\n",
       "        [4.3, 3. , 1.1, 0.1],\n",
       "        [5.4, 3.9, 1.3, 0.4],\n",
       "        [5.1, 3.5, 1.4, 0.3],\n",
       "        [5.7, 3.8, 1.7, 0.3],\n",
       "        [5.1, 3.7, 1.5, 0.4],\n",
       "        [5.1, 3.3, 1.7, 0.5],\n",
       "        [4.7, 3.2, 1.6, 0.2],\n",
       "        [5.4, 3.4, 1.5, 0.4],\n",
       "        [5.5, 4.2, 1.4, 0.2],\n",
       "        [5.1, 3.4, 1.5, 0.2],\n",
       "        [5. , 3.5, 1.3, 0.3],\n",
       "        [4.8, 3. , 1.4, 0.3],\n",
       "        [4.6, 3.2, 1.4, 0.2],\n",
       "        [5.3, 3.7, 1.5, 0.2],\n",
       "        [5. , 3.3, 1.4, 0.2],\n",
       "        [7. , 3.2, 4.7, 1.4],\n",
       "        [6.9, 3.1, 4.9, 1.5],\n",
       "        [6.5, 2.8, 4.6, 1.5],\n",
       "        [6.6, 2.9, 4.6, 1.3],\n",
       "        [5.2, 2.7, 3.9, 1.4],\n",
       "        [6.7, 3.1, 4.4, 1.4],\n",
       "        [5.8, 2.7, 4.1, 1. ],\n",
       "        [6.3, 2.5, 4.9, 1.5],\n",
       "        [6.4, 2.9, 4.3, 1.3],\n",
       "        [6.7, 3.1, 4.7, 1.5],\n",
       "        [6.3, 2.3, 4.4, 1.3],\n",
       "        [6.1, 3. , 4.6, 1.4],\n",
       "        [5.8, 2.6, 4. , 1.2],\n",
       "        [5. , 2.3, 3.3, 1. ],\n",
       "        [5.6, 2.7, 4.2, 1.3],\n",
       "        [5.7, 3. , 4.2, 1.2],\n",
       "        [6.2, 2.9, 4.3, 1.3],\n",
       "        [6.3, 3.3, 6. , 2.5],\n",
       "        [5.8, 2.7, 5.1, 1.9],\n",
       "        [6.3, 2.9, 5.6, 1.8],\n",
       "        [7.6, 3. , 6.6, 2.1],\n",
       "        [7.3, 2.9, 6.3, 1.8],\n",
       "        [6.7, 2.5, 5.8, 1.8],\n",
       "        [7.2, 3.6, 6.1, 2.5],\n",
       "        [5.8, 2.8, 5.1, 2.4],\n",
       "        [6.4, 3.2, 5.3, 2.3],\n",
       "        [6.5, 3. , 5.5, 1.8],\n",
       "        [7.7, 2.6, 6.9, 2.3],\n",
       "        [6. , 2.2, 5. , 1.5],\n",
       "        [7.7, 2.8, 6.7, 2. ],\n",
       "        [6.1, 3. , 4.9, 1.8],\n",
       "        [6.4, 2.8, 5.6, 2.2],\n",
       "        [6.1, 2.6, 5.6, 1.4],\n",
       "        [6. , 3. , 4.8, 1.8],\n",
       "        [6.8, 3.2, 5.9, 2.3],\n",
       "        [6.7, 3.3, 5.7, 2.5],\n",
       "        [6.5, 3. , 5.2, 2. ]]),\n",
       " array([0, 0, 0, 0, 0, 0, 0, 0, 0, 0, 0, 0, 0, 0, 0, 0, 0, 0, 0, 0, 0, 0,\n",
       "        1, 1, 1, 1, 1, 1, 1, 1, 1, 1, 1, 1, 1, 1, 1, 1, 1, 2, 2, 2, 2, 2,\n",
       "        2, 2, 2, 2, 2, 2, 2, 2, 2, 2, 2, 2, 2, 2, 2])]"
      ]
     },
     "execution_count": 82,
     "metadata": {},
     "output_type": "execute_result"
    }
   ],
   "source": [
    "split((irisData.data,irisData.target))"
   ]
  },
  {
   "cell_type": "code",
   "execution_count": 93,
   "metadata": {},
   "outputs": [],
   "source": [
    "def test(S, clf):\n",
    "    S1,T1,S2,T2=split((S.data,S.target))\n",
    "    clf.fit(S1,T1)\n",
    "    predicted = clf.predict(S2)\n",
    "    return erreur_apprentissage_3(clf,S2,T2)\n"
   ]
  },
  {
   "cell_type": "code",
   "execution_count": 95,
   "metadata": {},
   "outputs": [
    {
     "name": "stdout",
     "output_type": "stream",
     "text": [
      "this is the random number [ True  True False  True  True False False False False  True False  True\n",
      " False  True False  True False False  True  True  True  True False False\n",
      "  True  True False  True False  True  True  True False  True False  True\n",
      "  True  True False False  True  True False  True  True  True False False\n",
      " False  True  True  True False False  True  True  True  True  True  True\n",
      "  True False  True  True  True  True  True  True  True False  True  True\n",
      "  True False False  True False  True  True  True  True  True  True  True\n",
      " False  True  True False  True  True  True  True False  True False False\n",
      "  True  True  True False  True False  True False  True  True False False\n",
      "  True  True False  True False False  True  True False  True False  True\n",
      "  True  True  True  True  True False  True  True  True  True False False\n",
      "  True  True  True False False  True  True  True  True False  True False\n",
      "  True  True  True  True False  True]\n",
      "0.17307692307692313\n"
     ]
    }
   ],
   "source": [
    "test(irisData,nb)"
   ]
  },
  {
   "cell_type": "code",
   "execution_count": 132,
   "metadata": {},
   "outputs": [],
   "source": [
    "def test2(n,S ,clf): \n",
    "    moy=0\n",
    "    for i in range(int(n)): \n",
    "        moy = moy + test(S,clf) \n",
    "    print(moy/n)    \n",
    "    return (moy/n)"
   ]
  },
  {
   "cell_type": "code",
   "execution_count": 134,
   "metadata": {},
   "outputs": [
    {
     "name": "stdout",
     "output_type": "stream",
     "text": [
      "this is the random number [False  True  True  True  True  True  True  True False  True  True  True\n",
      "  True  True False  True False  True  True  True False False  True  True\n",
      " False False False False  True False  True False  True  True  True  True\n",
      " False  True False  True  True  True  True False  True False  True  True\n",
      "  True  True  True  True  True False  True  True  True  True  True  True\n",
      " False False  True  True False False False  True  True False  True  True\n",
      " False False  True False  True  True False  True  True  True  True  True\n",
      " False  True  True False  True  True False  True False  True  True False\n",
      " False False  True False  True  True  True  True  True  True  True  True\n",
      "  True  True  True  True  True  True False  True False  True  True  True\n",
      " False  True False  True  True False False  True False  True  True False\n",
      "  True  True False  True  True  True  True  True False  True  True  True\n",
      " False  True False False  True False]\n",
      "this is the random number [ True  True False  True False  True  True  True False  True False  True\n",
      "  True  True  True  True False  True False  True  True  True  True  True\n",
      " False  True False  True  True False  True  True  True  True  True False\n",
      "  True False  True  True  True  True  True  True  True  True  True  True\n",
      " False False  True  True  True False False False False  True  True  True\n",
      "  True  True False  True  True False  True  True False  True False False\n",
      "  True  True  True  True  True False  True  True  True  True  True False\n",
      " False  True False  True  True  True False  True  True False  True  True\n",
      "  True  True False False  True False False  True False False False  True\n",
      "  True  True  True False False False  True  True False False  True  True\n",
      "  True  True  True  True False  True False  True  True  True False  True\n",
      "  True  True False  True  True False False  True False  True  True  True\n",
      "  True  True  True False False  True]\n",
      "this is the random number [ True  True  True  True False  True False  True  True False  True False\n",
      "  True False False  True False  True False  True  True  True  True  True\n",
      "  True False False  True False  True  True  True  True  True  True False\n",
      "  True  True  True False False False False  True False  True False  True\n",
      "  True  True  True  True  True False False False  True  True False  True\n",
      " False False False  True False  True  True  True  True  True  True False\n",
      "  True  True False  True  True  True  True  True  True  True  True  True\n",
      " False  True  True False False  True  True False  True  True  True  True\n",
      "  True  True  True  True False False  True False  True  True  True  True\n",
      "  True False  True  True False  True False  True  True  True  True  True\n",
      " False  True  True  True  True  True False  True False  True  True  True\n",
      "  True False False False  True False False  True False  True  True  True\n",
      " False  True  True  True  True  True]\n",
      "this is the random number [ True  True  True  True False  True  True  True  True False  True False\n",
      "  True False  True  True  True False  True  True False  True False  True\n",
      "  True  True False False  True False  True False  True False False  True\n",
      " False  True  True False False  True  True  True  True  True  True  True\n",
      " False  True  True False False False  True  True  True  True  True False\n",
      "  True False  True False  True  True  True False  True False  True  True\n",
      "  True  True  True  True False  True  True False  True  True False False\n",
      "  True False False  True  True  True  True  True  True  True  True  True\n",
      "  True  True  True  True False False False False  True  True False  True\n",
      "  True False False False False  True False False  True False  True  True\n",
      "  True  True  True  True  True  True False  True False False False False\n",
      "  True  True  True False  True  True  True  True  True  True  True False\n",
      " False  True False False  True  True]\n",
      "this is the random number [False  True  True  True False  True  True  True  True  True  True  True\n",
      "  True  True False False  True  True  True False False False  True  True\n",
      "  True  True  True False  True  True  True False False  True False False\n",
      " False False False  True False  True False  True False False False  True\n",
      "  True  True  True  True  True  True False  True  True False False  True\n",
      "  True  True  True  True  True False  True False False False False  True\n",
      "  True  True  True False  True False False False False  True  True  True\n",
      " False  True  True False False False  True False  True False  True  True\n",
      "  True  True  True  True  True  True  True  True  True False  True  True\n",
      "  True  True False  True  True False False False  True  True  True False\n",
      "  True  True False False  True  True  True  True False False False  True\n",
      " False  True  True False  True  True  True  True  True  True  True  True\n",
      "  True False  True  True  True False]\n",
      "this is the random number [ True  True False  True  True  True  True False  True  True  True  True\n",
      " False  True  True False  True  True False  True False  True  True  True\n",
      "  True  True False  True  True False  True  True  True  True False False\n",
      " False False False False  True  True False  True False  True  True  True\n",
      "  True  True  True False  True False  True False False False  True False\n",
      "  True  True  True  True False  True  True False  True  True False False\n",
      " False  True  True  True  True False False  True  True  True False  True\n",
      " False  True False  True  True  True  True  True  True False False  True\n",
      " False  True  True  True  True  True  True  True False  True  True  True\n",
      "  True False  True  True  True False  True  True False False False  True\n",
      "  True False False False  True False False  True  True  True  True  True\n",
      "  True  True  True  True False  True  True  True False False  True  True\n",
      "  True False  True False  True False]\n",
      "this is the random number [ True False False False  True  True  True  True  True  True  True  True\n",
      "  True  True  True  True  True  True  True  True False  True False  True\n",
      "  True  True  True False  True False  True  True False  True  True  True\n",
      "  True False False  True  True  True  True  True False False  True  True\n",
      " False  True  True  True  True False  True  True  True False  True False\n",
      "  True  True False  True False False  True  True False  True False  True\n",
      "  True  True  True False  True  True False  True False False  True False\n",
      " False False  True  True  True  True  True  True  True  True  True  True\n",
      "  True False  True  True  True False False False  True False False  True\n",
      "  True  True  True False False  True  True  True  True  True False False\n",
      " False  True False  True  True  True  True  True  True False False  True\n",
      "  True False  True  True False False  True  True False  True  True False\n",
      "  True False  True False  True  True]\n",
      "this is the random number [False  True False  True False  True False  True  True  True  True False\n",
      "  True  True  True  True  True  True  True  True  True  True  True  True\n",
      "  True False False  True  True  True  True False False  True  True False\n",
      "  True False False  True False False  True  True  True  True  True False\n",
      " False False  True  True  True  True  True  True False False  True  True\n",
      "  True  True  True  True  True  True  True False False False False  True\n",
      "  True  True False False  True False False  True  True False False  True\n",
      " False  True  True  True  True  True  True  True False  True  True  True\n",
      "  True False  True False  True  True False  True  True False  True False\n",
      " False  True False False  True False  True  True  True  True False  True\n",
      " False  True False  True  True  True  True  True  True False  True  True\n",
      "  True  True False  True  True  True  True  True  True False False False\n",
      "  True  True  True False  True  True]\n",
      "this is the random number [ True False  True  True False  True  True  True  True False False  True\n",
      "  True  True False  True  True False  True  True  True  True  True False\n",
      " False False  True  True False  True  True  True  True False  True  True\n",
      " False False  True  True  True False  True False False  True  True  True\n",
      "  True  True  True False False False False  True False  True False False\n",
      "  True False  True  True  True  True  True  True  True False  True  True\n",
      " False  True  True  True  True False False False  True  True  True False\n",
      " False False  True False False  True  True  True  True  True  True  True\n",
      "  True  True  True  True  True  True False  True  True  True False  True\n",
      " False False False False  True  True False  True  True  True False  True\n",
      "  True  True  True  True  True  True  True  True  True  True  True  True\n",
      "  True False False False False  True  True  True  True  True False  True\n",
      "  True  True False  True  True  True]\n",
      "this is the random number [ True  True  True  True  True  True  True  True  True False  True  True\n",
      " False False  True  True  True False  True False  True False  True  True\n",
      " False False False  True False  True  True False  True  True False False\n",
      " False  True  True  True False  True  True  True  True False  True  True\n",
      "  True  True  True  True  True  True  True  True False  True False  True\n",
      "  True False  True  True  True False  True  True False  True  True False\n",
      "  True False  True False  True False  True  True  True  True False False\n",
      " False  True  True False  True  True False  True False  True False  True\n",
      "  True False  True  True False  True False False  True  True  True  True\n",
      "  True False  True False False False False  True False  True  True  True\n",
      " False False False False False  True False  True False  True  True  True\n",
      "  True False False False False  True  True  True False  True False  True\n",
      " False False  True  True  True  True]\n",
      "0.23664401951038355\n"
     ]
    },
    {
     "data": {
      "text/plain": [
       "0.23664401951038355"
      ]
     },
     "execution_count": 134,
     "metadata": {},
     "output_type": "execute_result"
    }
   ],
   "source": []
  },
  {
   "cell_type": "code",
   "execution_count": 137,
   "metadata": {},
   "outputs": [
    {
     "name": "stdout",
     "output_type": "stream",
     "text": [
      "0.17202976115291388\n",
      "0.16927630327224538\n",
      "0.2224102171573688\n",
      "0.2100653006612453\n",
      "0.1810386130063464\n",
      "0.2058371753728279\n",
      "0.20107535280655703\n"
     ]
    },
    {
     "data": {
      "text/plain": [
       "0.20107535280655703"
      ]
     },
     "execution_count": 137,
     "metadata": {},
     "output_type": "execute_result"
    }
   ],
   "source": [
    "test2(10,irisData,nb)\n",
    "test2(20,irisData,nb)\n",
    "test2(50,irisData,nb)\n",
    "test2(100,irisData,nb)\n",
    "test2(200,irisData,nb)\n",
    "test2(500,irisData,nb)\n",
    "test2(1000,irisData,nb)\n"
   ]
  },
  {
   "cell_type": "code",
   "execution_count": null,
   "metadata": {},
   "outputs": [],
   "source": []
  }
 ],
 "metadata": {
  "kernelspec": {
   "display_name": "Python 3",
   "language": "python",
   "name": "python3"
  },
  "language_info": {
   "codemirror_mode": {
    "name": "ipython",
    "version": 3
   },
   "file_extension": ".py",
   "mimetype": "text/x-python",
   "name": "python",
   "nbconvert_exporter": "python",
   "pygments_lexer": "ipython3",
   "version": "3.8.5"
  }
 },
 "nbformat": 4,
 "nbformat_minor": 4
}
